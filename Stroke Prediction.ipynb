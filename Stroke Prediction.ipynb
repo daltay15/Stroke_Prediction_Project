{
 "cells": [
  {
   "cell_type": "code",
   "execution_count": null,
   "id": "sudden-candle",
   "metadata": {},
   "outputs": [],
   "source": [
    "import seaborn as sns\n",
    "import matplotlib.pyplot as plt\n",
    "import numpy as np\n",
    "import pandas as pd\n",
    "import plotly.express as ex\n",
    "import plotly.graph_objs as go\n",
    "import plotly.offline as pyo\n",
    "from plotly.subplots import make_subplots\n",
    "import keras\n",
    "import tensorflow"
   ]
  },
  {
   "cell_type": "code",
   "execution_count": null,
   "id": "modified-combination",
   "metadata": {},
   "outputs": [],
   "source": [
    "data = pd.read_csv('healthcare-dataset-stroke-data.csv')\n",
    "print(data.shape)\n",
    "data.head()"
   ]
  },
  {
   "cell_type": "code",
   "execution_count": null,
   "id": "assumed-muscle",
   "metadata": {},
   "outputs": [],
   "source": [
    "data = data.drop(labels=\"id\", axis=1)\n",
    "data.head()"
   ]
  },
  {
   "cell_type": "code",
   "execution_count": null,
   "id": "personal-carrier",
   "metadata": {},
   "outputs": [],
   "source": [
    "data.isnull().sum().sort_values(ascending=False)"
   ]
  },
  {
   "cell_type": "markdown",
   "id": "committed-billy",
   "metadata": {},
   "source": [
    "201 missing entries from BMI so we take the mean and fill in the missing rows."
   ]
  },
  {
   "cell_type": "code",
   "execution_count": null,
   "id": "dated-compact",
   "metadata": {},
   "outputs": [],
   "source": [
    "data.fillna(data.bmi.mean(), inplace=True)\n",
    "data.isnull().sum().sort_values(ascending=False)"
   ]
  },
  {
   "cell_type": "code",
   "execution_count": null,
   "id": "beginning-contents",
   "metadata": {},
   "outputs": [],
   "source": [
    "plt.figure(figsize=(9,9))\n",
    "sns.heatmap(data.corr())\n",
    "plt.show()"
   ]
  },
  {
   "cell_type": "code",
   "execution_count": null,
   "id": "civic-converter",
   "metadata": {},
   "outputs": [],
   "source": [
    "sns.countplot(x=data['stroke'])\n",
    "plt.show()"
   ]
  },
  {
   "cell_type": "code",
   "execution_count": null,
   "id": "temporal-violin",
   "metadata": {},
   "outputs": [],
   "source": [
    "fig = ex.pie(data, names='stroke')\n",
    "fig.update_layout(title='<b>Stroke Proportion of Dataset')\n",
    "fig.show()\n",
    "\n",
    "stroke = 0\n",
    "notStroke = 0\n",
    "\n",
    "for i in data.stroke:\n",
    "    if(i == 0):\n",
    "        notStroke += 1\n",
    "    elif(i == 1):\n",
    "        stroke += 1\n",
    "        \n",
    "print(stroke, \"people have stroke\")\n",
    "print(notStroke, \"people don't have stroke\")"
   ]
  },
  {
   "cell_type": "markdown",
   "id": "european-collar",
   "metadata": {},
   "source": [
    "95.1% of the patients sampled do not have stroke creating a highly skewed dataset."
   ]
  },
  {
   "cell_type": "code",
   "execution_count": null,
   "id": "indonesian-clearing",
   "metadata": {},
   "outputs": [],
   "source": [
    "fig = ex.pie(data, names='gender')\n",
    "fig.update_layout(title='<b>Gender Proportion of Dataset')\n",
    "fig.show()\n",
    "\n",
    "numMales = 0\n",
    "numFemales = 0\n",
    "other = 0\n",
    "\n",
    "\n",
    "for i in data.gender:\n",
    "    if(i == \"Male\"):\n",
    "        numMales += 1\n",
    "    if(i == \"Female\"):\n",
    "        numFemales += 1\n",
    "        \n",
    "print(numMales, \"Males\")\n",
    "print(numFemales, \"Females\")"
   ]
  },
  {
   "cell_type": "code",
   "execution_count": null,
   "id": "gothic-attraction",
   "metadata": {},
   "outputs": [],
   "source": [
    "fig = ex.histogram(x=data.query('gender==\"Male\"').age)\n",
    "fig.update_layout(title='<b>Male Proportion of Dataset')\n",
    "fig.show()"
   ]
  },
  {
   "cell_type": "code",
   "execution_count": null,
   "id": "instant-netscape",
   "metadata": {},
   "outputs": [],
   "source": [
    "fig = ex.histogram(x=data.query('gender==\"Female\"').age)\n",
    "fig.update_layout(title='<b>Female Proportion of Dataset')\n",
    "fig.show()"
   ]
  },
  {
   "cell_type": "code",
   "execution_count": null,
   "id": "bizarre-deputy",
   "metadata": {
    "scrolled": false
   },
   "outputs": [],
   "source": [
    "fig = ex.pie(data, names='smoking_status')\n",
    "fig.update_layout(title='<b>Smokers Proportion of Dataset')\n",
    "fig.show()\n",
    "\n",
    "unknown = 0\n",
    "neverSmoked = 0\n",
    "smoke = 0\n",
    "formerlySmoked = 0\n",
    "\n",
    "for i in data.smoking_status:\n",
    "    if(i == \"Unknown\"):\n",
    "        unknown += 1\n",
    "    if(i == \"never smoked\"):\n",
    "        neverSmoked += 1\n",
    "    if(i == \"smokes\"):\n",
    "        smoke += 1\n",
    "    elif(i == \"formerly smoked\"):\n",
    "        formerlySmoked += 1\n",
    "\n",
    "print(unknown, \"people have an unknown smoking status\")\n",
    "print(neverSmoked, \"people never smoked\")\n",
    "print(smoke, \"people currently smoke\")\n",
    "print(formerlySmoked, \"people formerly smoked\")"
   ]
  },
  {
   "cell_type": "code",
   "execution_count": null,
   "id": "colonial-houston",
   "metadata": {},
   "outputs": [],
   "source": [
    "data1 = data.iloc[:,[0,2,3,4,5,6,9]]\n",
    "data2 = data.iloc[:,[1,7,8]]\n",
    "y = data.iloc[:,[-1]]"
   ]
  },
  {
   "cell_type": "code",
   "execution_count": null,
   "id": "dedicated-shooting",
   "metadata": {},
   "outputs": [],
   "source": [
    "from sklearn.preprocessing import StandardScaler, OneHotEncoder\n",
    "ohe = OneHotEncoder()\n",
    "sc = StandardScaler()"
   ]
  },
  {
   "cell_type": "code",
   "execution_count": null,
   "id": "phantom-montgomery",
   "metadata": {},
   "outputs": [],
   "source": [
    "data1 = pd.DataFrame(ohe.fit_transform(data1).toarray())\n",
    "data2 = pd.DataFrame(sc.fit_transform(data2))"
   ]
  },
  {
   "cell_type": "code",
   "execution_count": null,
   "id": "copyrighted-entry",
   "metadata": {},
   "outputs": [],
   "source": [
    "data = pd.concat([data1, data2], axis=1)\n",
    "data.columns = [a for a in range(0, len(data.columns))]"
   ]
  },
  {
   "cell_type": "code",
   "execution_count": null,
   "id": "coastal-desktop",
   "metadata": {},
   "outputs": [],
   "source": [
    "from sklearn.model_selection import train_test_split\n",
    "Xtrain, xtest, Ytrain, ytest = train_test_split(data, y, test_size=0.20)"
   ]
  },
  {
   "cell_type": "markdown",
   "id": "further-league",
   "metadata": {},
   "source": [
    "Artificial Neural Network Model"
   ]
  },
  {
   "cell_type": "code",
   "execution_count": null,
   "id": "thick-mattress",
   "metadata": {},
   "outputs": [],
   "source": [
    "from keras.models  import Sequential\n",
    "from keras.layers import Dense, Dropout\n",
    "from tensorflow.keras.optimizers import Adam\n",
    "from tensorflow.keras.losses import BinaryCrossentropy\n",
    "model = Sequential()\n",
    "model.add(Dense(512, activation='relu', input_shape=(23,)))\n",
    "model.add(Dense(512, activation='relu'))\n",
    "model.add(Dropout(0.5))\n",
    "model.add(Dense(256, activation='relu'))\n",
    "model.add(Dense(256, activation='relu'))\n",
    "model.add(Dropout(0.5))\n",
    "model.add(Dense(128, activation='relu'))\n",
    "model.add(Dense(128, activation='relu'))\n",
    "model.add(Dropout(0.5))\n",
    "model.add(Dense(64, activation='relu'))\n",
    "model.add(Dense(64, activation='relu'))\n",
    "model.add(Dropout(0.5))\n",
    "model.add(Dense(32, activation='relu'))\n",
    "model.add(Dense(32, activation='relu'))\n",
    "model.add(Dropout(0.5))\n",
    "model.add(Dense(1, activation='sigmoid'))\n",
    "model.compile(loss=\"binary_crossentropy\", optimizer=Adam(learning_rate=0.00001), metrics=[\"accuracy\"])\n",
    "model.summary()"
   ]
  },
  {
   "cell_type": "code",
   "execution_count": null,
   "id": "nutritional-concert",
   "metadata": {},
   "outputs": [],
   "source": [
    "from keras.callbacks import EarlyStopping\n",
    "callBack= EarlyStopping(\n",
    "            monitor='accuracy',\n",
    "            min_delta=0.001,\n",
    "            patience=40,\n",
    "            mode='auto')"
   ]
  },
  {
   "cell_type": "code",
   "execution_count": null,
   "id": "julian-mapping",
   "metadata": {},
   "outputs": [],
   "source": [
    "model.fit(Xtrain, Ytrain, epochs = 1000, batch_size=512, validation_split=0.20, callbacks=callBack)\n",
    "accuracy = model.evaluate(xtest, ytest)"
   ]
  },
  {
   "cell_type": "code",
   "execution_count": null,
   "id": "c0caf282",
   "metadata": {},
   "outputs": [],
   "source": [
    "print(\"ANN Accuracy: %.4f\" % accuracy[1])"
   ]
  },
  {
   "cell_type": "markdown",
   "id": "afraid-radio",
   "metadata": {},
   "source": [
    "Implement Convolutional Neural Network"
   ]
  }
 ],
 "metadata": {
  "kernelspec": {
   "display_name": "Python 3 (ipykernel)",
   "language": "python",
   "name": "python3"
  },
  "language_info": {
   "codemirror_mode": {
    "name": "ipython",
    "version": 3
   },
   "file_extension": ".py",
   "mimetype": "text/x-python",
   "name": "python",
   "nbconvert_exporter": "python",
   "pygments_lexer": "ipython3",
   "version": "3.9.1"
  },
  "vscode": {
   "interpreter": {
    "hash": "590f00423a7fc1436f92a6074f17e760f2fad73f55d2d141ceb39920f3d74a62"
   }
  }
 },
 "nbformat": 4,
 "nbformat_minor": 5
}
